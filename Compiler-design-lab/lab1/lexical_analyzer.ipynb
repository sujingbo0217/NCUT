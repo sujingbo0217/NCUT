{
 "cells": [
  {
   "cell_type": "code",
   "execution_count": 1,
   "metadata": {},
   "outputs": [],
   "source": [
    "keywords = [\n",
    "    'auto', 'break', 'case', 'char', 'const', 'continue', 'default', 'do', 'double', 'else', 'enum', 'extern',\n",
    "    'float', 'for', 'goto', 'if', 'include', 'int', 'long', 'register', 'return', 'short', 'signed', 'sizeof',\n",
    "    'static', 'struct', 'switch', 'typedef', 'union', 'unsigned', 'void', 'volatile', 'while', '%d', '%c', '%f', '%s'\n",
    "]"
   ]
  },
  {
   "cell_type": "code",
   "execution_count": 2,
   "metadata": {},
   "outputs": [],
   "source": [
    "operators = [\n",
    "    '+', '-', '*', '/', '%', '&', '|', '^', '!', '=', '~', '?', ':'\n",
    "]"
   ]
  },
  {
   "cell_type": "code",
   "execution_count": 3,
   "metadata": {},
   "outputs": [],
   "source": [
    "delimiters = [\n",
    "    '{', '}',\n",
    "    '(', ')',\n",
    "    '[', ']',\n",
    "    '<', '>',\n",
    "    ';', ',',\n",
    "]"
   ]
  },
  {
   "cell_type": "code",
   "execution_count": 4,
   "metadata": {
    "collapsed": false
   },
   "outputs": [],
   "source": [
    "class LexicalError(Exception):\n",
    "    pass"
   ]
  },
  {
   "cell_type": "code",
   "execution_count": 5,
   "metadata": {
    "ExecuteTime": {
     "end_time": "2023-04-26T00:49:06.495393Z",
     "start_time": "2023-04-26T00:49:06.494800Z"
    }
   },
   "outputs": [
    {
     "data": {
      "text/plain": [
       "[['const', 'int', 'b', '=', '100', ';'],\n",
       " ['static', 'int', 'a', ';'],\n",
       " ['int', 'main', '(', ')', '{'],\n",
       " ['101', ':', 'a', '=', '2', '*', '(', '1', '+', '3', ')', ';'],\n",
       " ['if', '(', 'b', '>', '10', ')', '{'],\n",
       " ['a', '=', '1', ';'],\n",
       " ['}', 'else', 'if', '(', 'b', '>', '=', '5', ')', '{'],\n",
       " ['a', '=', '2', ';'],\n",
       " ['}', 'else', '{'],\n",
       " ['goto', '101', ';'],\n",
       " ['}'],\n",
       " ['printf', '(', ',', 'b', ')', ';'],\n",
       " ['return', '0', ';'],\n",
       " ['}']]"
      ]
     },
     "execution_count": 5,
     "metadata": {},
     "output_type": "execute_result"
    }
   ],
   "source": [
    "import re\n",
    "\n",
    "input_file = './input.c'\n",
    "code = []\n",
    "\n",
    "def pre_processing() -> None:\n",
    "    # Get all code\n",
    "    with open(input_file, 'r') as f:\n",
    "        for line in f:\n",
    "            words = line.strip()\n",
    "            words = re.sub(r'\\#.+|\\\\[abfnrtv]|\\%[dcsfegxXioubpn]|//.*|/\\*.*?\\*/|\\'|\\\"', r' ', words)\n",
    "\n",
    "            for ch in delimiters:\n",
    "                words = words.replace(ch, f' {ch} ')\n",
    "\n",
    "            words = words.split()\n",
    "            if len(words) != 0:\n",
    "                code.append(words)\n",
    "\n",
    "    # Process end back-slash\n",
    "    for i, line in enumerate(code):\n",
    "        if line[-1] == '\\\\' and i < len(code)-1:\n",
    "            code[i].pop(-1)\n",
    "            code[i].extend(code[i+1])\n",
    "            code.pop(i+1)\n",
    "        elif line[-1] == '\\\\' and i >= len(code)-1:\n",
    "            raise LexicalError(f\"Invalid character '{line[-1]}' at line {i+1}\")\n",
    "        else:\n",
    "            pass\n",
    "\n",
    "pre_processing()\n",
    "code"
   ]
  },
  {
   "cell_type": "code",
   "execution_count": 6,
   "metadata": {},
   "outputs": [],
   "source": [
    "class LexicalAnalyzer:\n",
    "    def __init__(self, code: list) -> None:\n",
    "        self.code = code\n",
    "        self.tokens = {\n",
    "            'Keyword': [],\n",
    "            'Identifier': [],\n",
    "            'Number': [],\n",
    "            'Operator': [],\n",
    "            'Delimiter': [],\n",
    "            'Label': [],\n",
    "        }\n",
    "        self.is_label = False\n",
    "\n",
    "    def lex(self) -> dict:\n",
    "        for line_num, words in enumerate(self.code):\n",
    "            for word in words:\n",
    "                # goto\n",
    "                if self.is_label:\n",
    "                    self.show('Label', word)\n",
    "                    self.tokens['Label'].append((line_num, word))\n",
    "                    self.is_label = False\n",
    "                else:\n",
    "                    if word in keywords:\n",
    "                        if word == 'goto':\n",
    "                            self.is_label = True\n",
    "                        self.show('Keyword', word)\n",
    "                        self.tokens['Keyword'].append((line_num, word))\n",
    "                    elif word in operators:\n",
    "                        self.show('Operator', word)\n",
    "                        self.tokens['Operator'].append((line_num, word))\n",
    "                    elif word in delimiters:\n",
    "                        self.show('Delimiter', word)\n",
    "                        self.tokens['Delimiter'].append((line_num, word))\n",
    "                    elif word.isdigit():\n",
    "                        self.show('Number', word)\n",
    "                        self.tokens['Number'].append((line_num, word))\n",
    "                    else:\n",
    "                        # Labels\n",
    "                        if word[-1] == ':':\n",
    "                            self.show('Label', word[:-1])\n",
    "                            self.tokens['Label'].append((line_num, word[:-1]))\n",
    "                        # Identifiers\n",
    "                        elif word[0].isalpha() or word[0] == '_':\n",
    "                            self.show('Identifier', word)\n",
    "                            self.tokens['Identifier'].append((line_num, word))\n",
    "                        else:\n",
    "                            raise LexicalError(f\"Invalid character '{word}' at line {line_num + 1}\")\n",
    "        return self.tokens\n",
    "\n",
    "    @staticmethod\n",
    "    def show(key: str, value: str) -> None:\n",
    "        print(f'({key}, \\'{value}\\')')\n",
    "\n",
    "    def show_dic(self) -> None:\n",
    "        for key, value in self.tokens.items():\n",
    "            self.show(key, value)"
   ]
  },
  {
   "cell_type": "code",
   "execution_count": 7,
   "metadata": {},
   "outputs": [
    {
     "name": "stdout",
     "output_type": "stream",
     "text": [
      "(Keyword, 'const')\n",
      "(Keyword, 'int')\n",
      "(Identifier, 'b')\n",
      "(Operator, '=')\n",
      "(Number, '100')\n",
      "(Delimiter, ';')\n",
      "(Keyword, 'static')\n",
      "(Keyword, 'int')\n",
      "(Identifier, 'a')\n",
      "(Delimiter, ';')\n",
      "(Keyword, 'int')\n",
      "(Identifier, 'main')\n",
      "(Delimiter, '(')\n",
      "(Delimiter, ')')\n",
      "(Delimiter, '{')\n",
      "(Number, '101')\n",
      "(Operator, ':')\n",
      "(Identifier, 'a')\n",
      "(Operator, '=')\n",
      "(Number, '2')\n",
      "(Operator, '*')\n",
      "(Delimiter, '(')\n",
      "(Number, '1')\n",
      "(Operator, '+')\n",
      "(Number, '3')\n",
      "(Delimiter, ')')\n",
      "(Delimiter, ';')\n",
      "(Keyword, 'if')\n",
      "(Delimiter, '(')\n",
      "(Identifier, 'b')\n",
      "(Delimiter, '>')\n",
      "(Number, '10')\n",
      "(Delimiter, ')')\n",
      "(Delimiter, '{')\n",
      "(Identifier, 'a')\n",
      "(Operator, '=')\n",
      "(Number, '1')\n",
      "(Delimiter, ';')\n",
      "(Delimiter, '}')\n",
      "(Keyword, 'else')\n",
      "(Keyword, 'if')\n",
      "(Delimiter, '(')\n",
      "(Identifier, 'b')\n",
      "(Delimiter, '>')\n",
      "(Operator, '=')\n",
      "(Number, '5')\n",
      "(Delimiter, ')')\n",
      "(Delimiter, '{')\n",
      "(Identifier, 'a')\n",
      "(Operator, '=')\n",
      "(Number, '2')\n",
      "(Delimiter, ';')\n",
      "(Delimiter, '}')\n",
      "(Keyword, 'else')\n",
      "(Delimiter, '{')\n",
      "(Keyword, 'goto')\n",
      "(Label, '101')\n",
      "(Delimiter, ';')\n",
      "(Delimiter, '}')\n",
      "(Identifier, 'printf')\n",
      "(Delimiter, '(')\n",
      "(Delimiter, ',')\n",
      "(Identifier, 'b')\n",
      "(Delimiter, ')')\n",
      "(Delimiter, ';')\n",
      "(Keyword, 'return')\n",
      "(Number, '0')\n",
      "(Delimiter, ';')\n",
      "(Delimiter, '}')\n"
     ]
    }
   ],
   "source": [
    "lexical_analyzer = LexicalAnalyzer(code)\n",
    "dic = lexical_analyzer.lex()"
   ]
  },
  {
   "cell_type": "code",
   "execution_count": 8,
   "metadata": {
    "collapsed": false
   },
   "outputs": [
    {
     "name": "stdout",
     "output_type": "stream",
     "text": [
      "(Keyword, '[(0, 'const'), (0, 'int'), (1, 'static'), (1, 'int'), (2, 'int'), (4, 'if'), (6, 'else'), (6, 'if'), (8, 'else'), (9, 'goto'), (12, 'return')]')\n",
      "(Identifier, '[(0, 'b'), (1, 'a'), (2, 'main'), (3, 'a'), (4, 'b'), (5, 'a'), (6, 'b'), (7, 'a'), (11, 'printf'), (11, 'b')]')\n",
      "(Number, '[(0, '100'), (3, '101'), (3, '2'), (3, '1'), (3, '3'), (4, '10'), (5, '1'), (6, '5'), (7, '2'), (12, '0')]')\n",
      "(Operator, '[(0, '='), (3, ':'), (3, '='), (3, '*'), (3, '+'), (5, '='), (6, '='), (7, '=')]')\n",
      "(Delimiter, '[(0, ';'), (1, ';'), (2, '('), (2, ')'), (2, '{'), (3, '('), (3, ')'), (3, ';'), (4, '('), (4, '>'), (4, ')'), (4, '{'), (5, ';'), (6, '}'), (6, '('), (6, '>'), (6, ')'), (6, '{'), (7, ';'), (8, '}'), (8, '{'), (9, ';'), (10, '}'), (11, '('), (11, ','), (11, ')'), (11, ';'), (12, ';'), (13, '}')]')\n",
      "(Label, '[(9, '101')]')\n"
     ]
    }
   ],
   "source": [
    "lexical_analyzer.show_dic()"
   ]
  }
 ],
 "metadata": {
  "kernelspec": {
   "display_name": "Python 3",
   "language": "python",
   "name": "python3"
  },
  "language_info": {
   "codemirror_mode": {
    "name": "ipython",
    "version": 3
   },
   "file_extension": ".py",
   "mimetype": "text/x-python",
   "name": "python",
   "nbconvert_exporter": "python",
   "pygments_lexer": "ipython3",
   "version": "3.9.16"
  },
  "orig_nbformat": 4
 },
 "nbformat": 4,
 "nbformat_minor": 2
}
