{
 "cells": [
  {
   "attachments": {},
   "cell_type": "markdown",
   "metadata": {},
   "source": [
    "# Operator Precedence Analyer (OPA)\n",
    "\n",
    "## Steps\n",
    "\n",
    "1. **Generate the FirstVT and LastVT**\n",
    "   \n",
    "2. **Construct Precedence Relation Table**\n",
    "   \n",
    "3. **Control program, predict if an string can be accepted**\n",
    "\n",
    "### Analyzed program\n",
    "\n",
    "```c\n",
    "/*example*/\n",
    "    b=1\\\n",
    "00\n",
    "101:a=2*(1+3)\n",
    "    IF(b>10) THEN\n",
    "        a=1\n",
    "    ELSE IF(b>=5) THEN\n",
    "        a=2\n",
    "    ELSE\n",
    "        GOTO 101\n",
    "```\n",
    "\n",
    "### Operator Precedence Table\n",
    "\n",
    "```\n",
    "E -> E+T | E-T | T\n",
    "T -> T*F | T/F | F\n",
    "F -> (E) | i\n",
    "```\n",
    "\n",
    "|   | + | - | * | / | ( | ) | i | # |\n",
    "|---|---|---|---|---|---|---|---|---|\n",
    "| + | > | > | < | < | < | > | < | > |\n",
    "| - | > | > | < | < | < | > | < | > |\n",
    "| * | > | > | > | > | < | > | < | > |\n",
    "| / | > | > | > | > | < | > | < | > |\n",
    "| ( | < | < | < | < | < | = | < | ? |\n",
    "| ) | > | > | > | > | ? | > | ? | > |\n",
    "| i | > | > | > | > | ? | > | ? | > |\n",
    "| # | < | < | < | < | < | ? | < | = |"
   ]
  },
  {
   "cell_type": "code",
   "execution_count": 1,
   "metadata": {
    "ExecuteTime": {
     "end_time": "2023-05-29T13:23:25.322807Z",
     "start_time": "2023-05-29T13:23:25.304157Z"
    }
   },
   "outputs": [
    {
     "data": {
      "text/plain": "'b=100 101: a=2*(1+3) IF(b>10) THEN a=1 ELSE IF(b>=5) THEN a=2 ELSE GOTO 101'"
     },
     "execution_count": 1,
     "metadata": {},
     "output_type": "execute_result"
    }
   ],
   "source": [
    "from utils.pre_processing import pre_processing\n",
    "\n",
    "code = pre_processing()\n",
    "code"
   ]
  },
  {
   "cell_type": "code",
   "execution_count": 2,
   "metadata": {
    "collapsed": false,
    "ExecuteTime": {
     "end_time": "2023-05-29T13:23:25.364089Z",
     "start_time": "2023-05-29T13:23:25.327741Z"
    }
   },
   "outputs": [],
   "source": [
    "from utils.error import LexicalError, OPAError\n",
    "from utils.lex import lex\n",
    "from utils.get_top import get_top_vt\n",
    "from src.lm_prime import left_most_prime_phrase\n",
    "from src.constant import O, A_op\n",
    "from src import op_table\n",
    "import csv"
   ]
  },
  {
   "cell_type": "code",
   "execution_count": 3,
   "metadata": {
    "collapsed": false,
    "ExecuteTime": {
     "end_time": "2023-05-29T13:23:25.386695Z",
     "start_time": "2023-05-29T13:23:25.357677Z"
    }
   },
   "outputs": [],
   "source": [
    "class OPA:\n",
    "    def __init__(self, code: str):\n",
    "        self.code = code.split()\n",
    "        self.table = []\n",
    "        self.step = 1\n",
    "        self.stk = ['#']\n",
    "        self.priority = op_table.s\n",
    "        self.remnant = ''\n",
    "\n",
    "    def pre_op(self):\n",
    "        for code in self.code:\n",
    "            if '=' in code:\n",
    "                if code[0] == '=' or code[-1] == '=':\n",
    "                    raise LexicalError('Invalid token')\n",
    "                i = code.index('=')\n",
    "                # Exclude [i-1, i]: <=, >=, ==, !=\n",
    "                if code[i-1:i+1] in O[:4]:\n",
    "                    continue\n",
    "                self.step = 1\n",
    "                self.stk = ['#']\n",
    "                self.priority = op_table.s\n",
    "                self.remnant = ''\n",
    "                expr = code[i+1:]\n",
    "                self.handler(expr)\n",
    "\n",
    "    def reduce(self, token: str):\n",
    "        # print(self.step, ''.join(self.stk), self.priority, token, self.remnant, 'Reduction')\n",
    "        self.table.append([self.step, ''.join(self.stk), self.priority, token, self.remnant, 'Reduction'])\n",
    "        top = self.stk[-1]\n",
    "        if top == 'i':\n",
    "            self.stk[-1] = left_most_prime_phrase.get(top)\n",
    "            # print(top_pr+token, op_table.table.get(top_pr+token))\n",
    "            self.step += 1\n",
    "        else:\n",
    "            reduction = ''.join(self.stk[-3:])\n",
    "            pr = left_most_prime_phrase.get(reduction)\n",
    "            if pr in {'F', 'T', 'E'}:\n",
    "                self.priority = op_table.s\n",
    "            if pr is not None:\n",
    "                self.stk = self.stk[:-3]\n",
    "                self.stk.append(pr)\n",
    "            else:\n",
    "                raise OPAError('Invalid Left Most Prime Phrase')\n",
    "        top_vt = get_top_vt(self.stk)\n",
    "        self.priority = op_table.table.get(top_vt+token)\n",
    "\n",
    "    def move_in(self, token: str):\n",
    "        # print(self.step, ''.join(self.stk), self.priority, token, self.remnant, 'Move-in')\n",
    "        self.table.append([self.step, ''.join(self.stk), self.priority, token, self.remnant, 'Move-in'])\n",
    "        self.stk.append(token)\n",
    "        self.step += 1\n",
    "\n",
    "    def handler(self, expr: str):\n",
    "        self.table.append([f'Arithmetic Expression: {expr}'])\n",
    "        expr = lex(expr)\n",
    "        self.table.append([f'Convert to input: {expr}'])\n",
    "        self.table.append(['Step', 'Operator Stack', 'Priority', 'Next', 'Remnant', 'Action'])\n",
    "\n",
    "        expr = expr[1:]\n",
    "        expr_lst = [*expr]\n",
    "\n",
    "        for i, token in enumerate(expr_lst):\n",
    "            # Remnant\n",
    "            self.remnant = '-' if i == len(expr_lst)-1 else expr[i+1:]\n",
    "\n",
    "            # Priority\n",
    "            top_vt = get_top_vt(self.stk)\n",
    "            # print(get_top_vt(self.stk))\n",
    "            self.priority = op_table.table.get(top_vt+token)\n",
    "            if self.priority == op_table.n or None:\n",
    "                print(f'KeyError: {top_vt+token}')\n",
    "                raise OPAError('===Rejected===')\n",
    "            while self.priority == op_table.g:\n",
    "                # Reduction\n",
    "                self.reduce(token)\n",
    "            # Move in\n",
    "            self.move_in(token)\n",
    "\n",
    "        # Check if there is final once\n",
    "        token = expr_lst[-1]\n",
    "        self.move_in(token)\n",
    "\n",
    "        print('===Accepted===')\n",
    "        self.csv_write()\n",
    "\n",
    "    def csv_write(self):\n",
    "        file_path = 'runs/output.csv'\n",
    "        with open (file_path, 'w', newline='') as f:\n",
    "            writer = csv.writer(f)\n",
    "            writer.writerows(self.table)"
   ]
  },
  {
   "cell_type": "code",
   "execution_count": 4,
   "metadata": {
    "ExecuteTime": {
     "end_time": "2023-05-29T13:23:25.413502Z",
     "start_time": "2023-05-29T13:23:25.388064Z"
    }
   },
   "outputs": [
    {
     "name": "stdout",
     "output_type": "stream",
     "text": [
      "===Accepted===\n",
      "===Accepted===\n",
      "===Accepted===\n",
      "===Accepted===\n"
     ]
    }
   ],
   "source": [
    "opa = OPA(code)\n",
    "opa.pre_op()"
   ]
  }
 ],
 "metadata": {
  "kernelspec": {
   "display_name": "Python 3 (ipykernel)",
   "language": "python",
   "name": "python3"
  },
  "language_info": {
   "codemirror_mode": {
    "name": "ipython",
    "version": 3
   },
   "file_extension": ".py",
   "mimetype": "text/x-python",
   "name": "python",
   "nbconvert_exporter": "python",
   "pygments_lexer": "ipython3",
   "version": "3.9.16"
  }
 },
 "nbformat": 4,
 "nbformat_minor": 2
}
